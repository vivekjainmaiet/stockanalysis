{
 "cells": [
  {
   "cell_type": "markdown",
   "id": "55608e29",
   "metadata": {},
   "source": [
    "# Calculate sentiment"
   ]
  },
  {
   "cell_type": "code",
   "execution_count": 2,
   "id": "cbc1e5b1",
   "metadata": {
    "scrolled": true
   },
   "outputs": [],
   "source": [
    "import pandas as pd\n",
    "import matplotlib.pyplot as plt\n",
    "from sklearn.linear_model import LinearRegression\n",
    "from sklearn.ensemble import RandomForestRegressor\n",
    "from sklearn.model_selection import cross_validate\n",
    "import numpy as np\n",
    "from sklearn.model_selection import train_test_split\n",
    "from sklearn.model_selection import cross_val_score"
   ]
  },
  {
   "cell_type": "code",
   "execution_count": 24,
   "id": "13a0bbd7",
   "metadata": {
    "scrolled": true
   },
   "outputs": [
    {
     "data": {
      "text/html": [
       "<div>\n",
       "<style scoped>\n",
       "    .dataframe tbody tr th:only-of-type {\n",
       "        vertical-align: middle;\n",
       "    }\n",
       "\n",
       "    .dataframe tbody tr th {\n",
       "        vertical-align: top;\n",
       "    }\n",
       "\n",
       "    .dataframe thead th {\n",
       "        text-align: right;\n",
       "    }\n",
       "</style>\n",
       "<table border=\"1\" class=\"dataframe\">\n",
       "  <thead>\n",
       "    <tr style=\"text-align: right;\">\n",
       "      <th></th>\n",
       "      <th>Unnamed: 0</th>\n",
       "      <th>text</th>\n",
       "      <th>created_at</th>\n",
       "      <th>clean_text</th>\n",
       "      <th>sentiment</th>\n",
       "    </tr>\n",
       "  </thead>\n",
       "  <tbody>\n",
       "    <tr>\n",
       "      <th>0</th>\n",
       "      <td>0</td>\n",
       "      <td>$FB more blood coming.. sell ur stocks .. cash...</td>\n",
       "      <td>2022-02-18 23:59:53+00:00</td>\n",
       "      <td>more blood coming sell stocks cash only SPY AA...</td>\n",
       "      <td>0.25</td>\n",
       "    </tr>\n",
       "    <tr>\n",
       "      <th>1</th>\n",
       "      <td>1</td>\n",
       "      <td>@MarketRebels @ARKInvest Should just stop and ...</td>\n",
       "      <td>2022-02-18 23:59:21+00:00</td>\n",
       "      <td>Should just stop and put all AAPL</td>\n",
       "      <td>0.00</td>\n",
       "    </tr>\n",
       "    <tr>\n",
       "      <th>2</th>\n",
       "      <td>2</td>\n",
       "      <td>@jj_buckner $AAPL largest cash reserves, excel...</td>\n",
       "      <td>2022-02-18 23:56:09+00:00</td>\n",
       "      <td>AAPL largest cash reserves excellent managemen...</td>\n",
       "      <td>1.00</td>\n",
       "    </tr>\n",
       "    <tr>\n",
       "      <th>3</th>\n",
       "      <td>3</td>\n",
       "      <td>Top tweeted stocks:\\n$ROKU $TSLA $PLTR $SPX $N...</td>\n",
       "      <td>2022-02-18 23:53:58+00:00</td>\n",
       "      <td>Top tweeted stocks ROKU TSLA PLTR SPX NVDA RBL...</td>\n",
       "      <td>0.50</td>\n",
       "    </tr>\n",
       "    <tr>\n",
       "      <th>4</th>\n",
       "      <td>4</td>\n",
       "      <td>$AAPL #AAPL Still the same thoughts as before ...</td>\n",
       "      <td>2022-02-18 23:51:52+00:00</td>\n",
       "      <td>AAPL #AAPL Still the same thoughts before that...</td>\n",
       "      <td>0.08</td>\n",
       "    </tr>\n",
       "  </tbody>\n",
       "</table>\n",
       "</div>"
      ],
      "text/plain": [
       "   Unnamed: 0                                               text  \\\n",
       "0           0  $FB more blood coming.. sell ur stocks .. cash...   \n",
       "1           1  @MarketRebels @ARKInvest Should just stop and ...   \n",
       "2           2  @jj_buckner $AAPL largest cash reserves, excel...   \n",
       "3           3  Top tweeted stocks:\\n$ROKU $TSLA $PLTR $SPX $N...   \n",
       "4           4  $AAPL #AAPL Still the same thoughts as before ...   \n",
       "\n",
       "                  created_at  \\\n",
       "0  2022-02-18 23:59:53+00:00   \n",
       "1  2022-02-18 23:59:21+00:00   \n",
       "2  2022-02-18 23:56:09+00:00   \n",
       "3  2022-02-18 23:53:58+00:00   \n",
       "4  2022-02-18 23:51:52+00:00   \n",
       "\n",
       "                                          clean_text  sentiment  \n",
       "0  more blood coming sell stocks cash only SPY AA...       0.25  \n",
       "1                  Should just stop and put all AAPL       0.00  \n",
       "2  AAPL largest cash reserves excellent managemen...       1.00  \n",
       "3  Top tweeted stocks ROKU TSLA PLTR SPX NVDA RBL...       0.50  \n",
       "4  AAPL #AAPL Still the same thoughts before that...       0.08  "
      ]
     },
     "execution_count": 24,
     "metadata": {},
     "output_type": "execute_result"
    }
   ],
   "source": [
    "df= pd.read_csv('/home/lorisliusso/code/lorisliusso/twitter_project/Twitter/data/daily_tweets/AAPL/2022-02-18.csv')\n",
    "\n",
    "df.head()"
   ]
  },
  {
   "cell_type": "code",
   "execution_count": 25,
   "id": "b3b8d513",
   "metadata": {},
   "outputs": [],
   "source": [
    "df=df[df.sentiment!=0.0]"
   ]
  },
  {
   "cell_type": "code",
   "execution_count": 26,
   "id": "5c2f8bc5",
   "metadata": {},
   "outputs": [
    {
     "data": {
      "text/plain": [
       "0.1707233107721203"
      ]
     },
     "execution_count": 26,
     "metadata": {},
     "output_type": "execute_result"
    }
   ],
   "source": [
    "sentiment= df.sentiment.mean()\n",
    "sentiment"
   ]
  },
  {
   "cell_type": "markdown",
   "id": "352153f6",
   "metadata": {},
   "source": [
    "# Graphs and Model"
   ]
  },
  {
   "cell_type": "code",
   "execution_count": 27,
   "id": "5a773412",
   "metadata": {},
   "outputs": [
    {
     "data": {
      "text/html": [
       "<div>\n",
       "<style scoped>\n",
       "    .dataframe tbody tr th:only-of-type {\n",
       "        vertical-align: middle;\n",
       "    }\n",
       "\n",
       "    .dataframe tbody tr th {\n",
       "        vertical-align: top;\n",
       "    }\n",
       "\n",
       "    .dataframe thead th {\n",
       "        text-align: right;\n",
       "    }\n",
       "</style>\n",
       "<table border=\"1\" class=\"dataframe\">\n",
       "  <thead>\n",
       "    <tr style=\"text-align: right;\">\n",
       "      <th></th>\n",
       "      <th>Unnamed: 0</th>\n",
       "      <th>date</th>\n",
       "      <th>Close</th>\n",
       "      <th>sentiment</th>\n",
       "    </tr>\n",
       "  </thead>\n",
       "  <tbody>\n",
       "    <tr>\n",
       "      <th>0</th>\n",
       "      <td>0</td>\n",
       "      <td>2022-02-11</td>\n",
       "      <td>168.64</td>\n",
       "      <td>0.171005</td>\n",
       "    </tr>\n",
       "    <tr>\n",
       "      <th>1</th>\n",
       "      <td>1</td>\n",
       "      <td>2022-02-14</td>\n",
       "      <td>168.88</td>\n",
       "      <td>0.209314</td>\n",
       "    </tr>\n",
       "    <tr>\n",
       "      <th>2</th>\n",
       "      <td>2</td>\n",
       "      <td>2022-02-15</td>\n",
       "      <td>172.79</td>\n",
       "      <td>0.222850</td>\n",
       "    </tr>\n",
       "    <tr>\n",
       "      <th>3</th>\n",
       "      <td>3</td>\n",
       "      <td>2022-02-16</td>\n",
       "      <td>172.55</td>\n",
       "      <td>0.196194</td>\n",
       "    </tr>\n",
       "    <tr>\n",
       "      <th>4</th>\n",
       "      <td>4</td>\n",
       "      <td>2022-02-17</td>\n",
       "      <td>168.91</td>\n",
       "      <td>0.205842</td>\n",
       "    </tr>\n",
       "    <tr>\n",
       "      <th>5</th>\n",
       "      <td>5</td>\n",
       "      <td>2022-02-18</td>\n",
       "      <td>167.30</td>\n",
       "      <td>0.170723</td>\n",
       "    </tr>\n",
       "  </tbody>\n",
       "</table>\n",
       "</div>"
      ],
      "text/plain": [
       "   Unnamed: 0        date   Close  sentiment\n",
       "0           0  2022-02-11  168.64   0.171005\n",
       "1           1  2022-02-14  168.88   0.209314\n",
       "2           2  2022-02-15  172.79   0.222850\n",
       "3           3  2022-02-16  172.55   0.196194\n",
       "4           4  2022-02-17  168.91   0.205842\n",
       "5           5  2022-02-18  167.30   0.170723"
      ]
     },
     "execution_count": 27,
     "metadata": {},
     "output_type": "execute_result"
    }
   ],
   "source": [
    "df= pd.read_csv('/home/lorisliusso/code/lorisliusso/twitter_project/Twitter/data/reports/report_AAPL.csv')\n",
    "df"
   ]
  },
  {
   "cell_type": "code",
   "execution_count": 28,
   "id": "9f01848b",
   "metadata": {},
   "outputs": [
    {
     "data": {
      "text/html": [
       "<div>\n",
       "<style scoped>\n",
       "    .dataframe tbody tr th:only-of-type {\n",
       "        vertical-align: middle;\n",
       "    }\n",
       "\n",
       "    .dataframe tbody tr th {\n",
       "        vertical-align: top;\n",
       "    }\n",
       "\n",
       "    .dataframe thead th {\n",
       "        text-align: right;\n",
       "    }\n",
       "</style>\n",
       "<table border=\"1\" class=\"dataframe\">\n",
       "  <thead>\n",
       "    <tr style=\"text-align: right;\">\n",
       "      <th></th>\n",
       "      <th>Unnamed: 0</th>\n",
       "      <th>date</th>\n",
       "      <th>Close</th>\n",
       "      <th>sentiment</th>\n",
       "    </tr>\n",
       "  </thead>\n",
       "  <tbody>\n",
       "    <tr>\n",
       "      <th>0</th>\n",
       "      <td>0</td>\n",
       "      <td>2022-02-11</td>\n",
       "      <td>-0.581954</td>\n",
       "      <td>-1.287609</td>\n",
       "    </tr>\n",
       "    <tr>\n",
       "      <th>1</th>\n",
       "      <td>1</td>\n",
       "      <td>2022-02-14</td>\n",
       "      <td>-0.466046</td>\n",
       "      <td>0.686816</td>\n",
       "    </tr>\n",
       "    <tr>\n",
       "      <th>2</th>\n",
       "      <td>2</td>\n",
       "      <td>2022-02-15</td>\n",
       "      <td>1.422286</td>\n",
       "      <td>1.384471</td>\n",
       "    </tr>\n",
       "    <tr>\n",
       "      <th>3</th>\n",
       "      <td>3</td>\n",
       "      <td>2022-02-16</td>\n",
       "      <td>1.306378</td>\n",
       "      <td>0.010606</td>\n",
       "    </tr>\n",
       "    <tr>\n",
       "      <th>4</th>\n",
       "      <td>4</td>\n",
       "      <td>2022-02-17</td>\n",
       "      <td>-0.451558</td>\n",
       "      <td>0.507852</td>\n",
       "    </tr>\n",
       "  </tbody>\n",
       "</table>\n",
       "</div>"
      ],
      "text/plain": [
       "   Unnamed: 0        date     Close  sentiment\n",
       "0           0  2022-02-11 -0.581954  -1.287609\n",
       "1           1  2022-02-14 -0.466046   0.686816\n",
       "2           2  2022-02-15  1.422286   1.384471\n",
       "3           3  2022-02-16  1.306378   0.010606\n",
       "4           4  2022-02-17 -0.451558   0.507852"
      ]
     },
     "execution_count": 28,
     "metadata": {},
     "output_type": "execute_result"
    }
   ],
   "source": [
    "from sklearn.preprocessing import StandardScaler\n",
    "\n",
    "scaler = StandardScaler()\n",
    "\n",
    "#scaling_data\n",
    "\n",
    "df[['sentiment', 'Close']]= scaler.fit_transform(df[['sentiment', 'Close']])\n",
    "df.head()"
   ]
  },
  {
   "cell_type": "code",
   "execution_count": 29,
   "id": "f7c2fa44",
   "metadata": {},
   "outputs": [
    {
     "data": {
      "text/html": [
       "<div>\n",
       "<style scoped>\n",
       "    .dataframe tbody tr th:only-of-type {\n",
       "        vertical-align: middle;\n",
       "    }\n",
       "\n",
       "    .dataframe tbody tr th {\n",
       "        vertical-align: top;\n",
       "    }\n",
       "\n",
       "    .dataframe thead th {\n",
       "        text-align: right;\n",
       "    }\n",
       "</style>\n",
       "<table border=\"1\" class=\"dataframe\">\n",
       "  <thead>\n",
       "    <tr style=\"text-align: right;\">\n",
       "      <th></th>\n",
       "      <th>Unnamed: 0</th>\n",
       "      <th>date</th>\n",
       "      <th>Close</th>\n",
       "      <th>sentiment</th>\n",
       "      <th>yesterday_sentiment</th>\n",
       "    </tr>\n",
       "  </thead>\n",
       "  <tbody>\n",
       "    <tr>\n",
       "      <th>1</th>\n",
       "      <td>1</td>\n",
       "      <td>2022-02-14</td>\n",
       "      <td>-0.466046</td>\n",
       "      <td>0.686816</td>\n",
       "      <td>-1.287609</td>\n",
       "    </tr>\n",
       "    <tr>\n",
       "      <th>2</th>\n",
       "      <td>2</td>\n",
       "      <td>2022-02-15</td>\n",
       "      <td>1.422286</td>\n",
       "      <td>1.384471</td>\n",
       "      <td>0.686816</td>\n",
       "    </tr>\n",
       "    <tr>\n",
       "      <th>3</th>\n",
       "      <td>3</td>\n",
       "      <td>2022-02-16</td>\n",
       "      <td>1.306378</td>\n",
       "      <td>0.010606</td>\n",
       "      <td>1.384471</td>\n",
       "    </tr>\n",
       "    <tr>\n",
       "      <th>4</th>\n",
       "      <td>4</td>\n",
       "      <td>2022-02-17</td>\n",
       "      <td>-0.451558</td>\n",
       "      <td>0.507852</td>\n",
       "      <td>0.010606</td>\n",
       "    </tr>\n",
       "    <tr>\n",
       "      <th>5</th>\n",
       "      <td>5</td>\n",
       "      <td>2022-02-18</td>\n",
       "      <td>-1.229107</td>\n",
       "      <td>-1.302137</td>\n",
       "      <td>0.507852</td>\n",
       "    </tr>\n",
       "  </tbody>\n",
       "</table>\n",
       "</div>"
      ],
      "text/plain": [
       "   Unnamed: 0        date     Close  sentiment  yesterday_sentiment\n",
       "1           1  2022-02-14 -0.466046   0.686816            -1.287609\n",
       "2           2  2022-02-15  1.422286   1.384471             0.686816\n",
       "3           3  2022-02-16  1.306378   0.010606             1.384471\n",
       "4           4  2022-02-17 -0.451558   0.507852             0.010606\n",
       "5           5  2022-02-18 -1.229107  -1.302137             0.507852"
      ]
     },
     "execution_count": 29,
     "metadata": {},
     "output_type": "execute_result"
    }
   ],
   "source": [
    "# Create yesterday sentiment \n",
    "\n",
    "df['yesterday_sentiment']= df['sentiment'].shift(1)\n",
    "df.dropna(inplace=True)\n",
    "df.head()"
   ]
  },
  {
   "cell_type": "code",
   "execution_count": 31,
   "id": "204e67f7",
   "metadata": {},
   "outputs": [
    {
     "data": {
      "text/plain": [
       "Text(0.5, 1.0, 'Close VS Yesterday Sentiment')"
      ]
     },
     "execution_count": 31,
     "metadata": {},
     "output_type": "execute_result"
    },
    {
     "data": {
      "image/png": "[encoded data removed]",
      "text/plain": [
       "<Figure size 1080x504 with 1 Axes>"
      ]
     },
     "metadata": {},
     "output_type": "display_data"
    }
   ],
   "source": [
    "plt.style.use('fivethirtyeight')\n",
    "plt.figure(figsize=(15,7));\n",
    "plt.plot(df.Close, label='Close')\n",
    "plt.plot(df.yesterday_sentiment, label='yesterday_sentiment')\n",
    "plt.axhline(y=0.0, color='black', linestyle='-')\n",
    "plt.legend()\n",
    "plt.title('Close VS Yesterday Sentiment')"
   ]
  },
  {
   "cell_type": "code",
   "execution_count": null,
   "id": "6a522fca",
   "metadata": {
    "scrolled": true
   },
   "outputs": [],
   "source": []
  }
 ],
 "metadata": {
  "kernelspec": {
   "display_name": "Python 3 (ipykernel)",
   "language": "python",
   "name": "python3"
  },
  "language_info": {
   "codemirror_mode": {
    "name": "ipython",
    "version": 3
   },
   "file_extension": ".py",
   "mimetype": "text/x-python",
   "name": "python",
   "nbconvert_exporter": "python",
   "pygments_lexer": "ipython3",
   "version": "3.8.12"
  },
  "toc": {
   "base_numbering": 1,
   "nav_menu": {},
   "number_sections": true,
   "sideBar": true,
   "skip_h1_title": false,
   "title_cell": "Table of Contents",
   "title_sidebar": "Contents",
   "toc_cell": false,
   "toc_position": {},
   "toc_section_display": true,
   "toc_window_display": false
  }
 },
 "nbformat": 4,
 "nbformat_minor": 5
}
