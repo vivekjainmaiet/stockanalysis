{
 "cells": [
  {
   "cell_type": "markdown",
   "id": "975150b5",
   "metadata": {},
   "source": [
    "# Imports\n"
   ]
  },
  {
   "cell_type": "code",
   "execution_count": 1,
   "id": "512615ed",
   "metadata": {},
   "outputs": [
    {
     "name": "stderr",
     "output_type": "stream",
     "text": [
      "2022-03-08 20:27:53.969095: W tensorflow/stream_executor/platform/default/dso_loader.cc:64] Could not load dynamic library 'libcudart.so.11.0'; dlerror: libcudart.so.11.0: cannot open shared object file: No such file or directory\n",
      "2022-03-08 20:27:53.969116: I tensorflow/stream_executor/cuda/cudart_stub.cc:29] Ignore above cudart dlerror if you do not have a GPU set up on your machine.\n"
     ]
    }
   ],
   "source": [
    "import matplotlib.pyplot as plt\n",
    "import tensorflow as tf\n",
    "import seaborn as sns\n"
   ]
  },
  {
   "cell_type": "code",
   "execution_count": 8,
   "id": "9c284ca4",
   "metadata": {},
   "outputs": [],
   "source": [
    "from stockanalysis.data import *\n",
    "from stockanalysis.encoder import *\n",
    "\n",
    "from stockanalysis.utils import *\n",
    "\n",
    "\n",
    "from stockanalysis.param import *\n",
    "from stockanalysis.predict import *\n",
    "\n"
   ]
  },
  {
   "cell_type": "code",
   "execution_count": 3,
   "id": "b7479b1a",
   "metadata": {},
   "outputs": [],
   "source": [
    "import datetime\n",
    "import joblib\n"
   ]
  },
  {
   "cell_type": "code",
   "execution_count": 5,
   "id": "404b77a6",
   "metadata": {},
   "outputs": [
    {
     "name": "stdout",
     "output_type": "stream",
     "text": [
      "[*********************100%***********************]  1 of 1 completed\n"
     ]
    }
   ],
   "source": [
    "ticker = \"INFY.NS\"\n",
    "\n",
    "\n",
    "#Get Data\n",
    "\n",
    "\n",
    "start_date = (datetime.datetime.now() - datetime.timedelta(days=5 * 365)).strftime(\"%Y-%m-%d\")\n",
    "end_date = datetime.datetime.now().strftime(\"%Y-%m-%d\")\n",
    "cleaned_data = get_technical(symbol=ticker, start=start_date,\n",
    "                                 end=end_date)\n",
    "\n"
   ]
  },
  {
   "cell_type": "code",
   "execution_count": 7,
   "id": "f8d66dea",
   "metadata": {},
   "outputs": [
    {
     "name": "stderr",
     "output_type": "stream",
     "text": [
      "2022-03-08 20:29:36.390403: W tensorflow/stream_executor/platform/default/dso_loader.cc:64] Could not load dynamic library 'libcuda.so.1'; dlerror: libcuda.so.1: cannot open shared object file: No such file or directory\n",
      "2022-03-08 20:29:36.390484: W tensorflow/stream_executor/cuda/cuda_driver.cc:269] failed call to cuInit: UNKNOWN ERROR (303)\n",
      "2022-03-08 20:29:36.390545: I tensorflow/stream_executor/cuda/cuda_diagnostics.cc:156] kernel driver does not appear to be running on this host (thierry-Aspire-E5-575G): /proc/driver/nvidia/version does not exist\n",
      "2022-03-08 20:29:36.392021: I tensorflow/core/platform/cpu_feature_guard.cc:151] This TensorFlow binary is optimized with oneAPI Deep Neural Network Library (oneDNN) to use the following CPU instructions in performance-critical operations:  AVX2 FMA\n",
      "To enable them in other operations, rebuild TensorFlow with the appropriate compiler flags.\n"
     ]
    }
   ],
   "source": [
    "model = joblib.load(f'../{ticker}.joblib')"
   ]
  },
  {
   "cell_type": "markdown",
   "id": "6ee36274",
   "metadata": {},
   "source": [
    "# Evaluating the test set\n"
   ]
  },
  {
   "cell_type": "code",
   "execution_count": 4,
   "id": "b8c1e87b",
   "metadata": {},
   "outputs": [],
   "source": [
    "def evaluate(self, x_test, y_test, model):\n",
    "    '''returns the value of the RMSE'''\n",
    "    y_pred = model.predict(x_test)\n",
    "\n",
    "    if TYPE_Y == 'log':\n",
    "        y_test = np.exp(y_test)\n",
    "        y_pred = np.exp(y_pred)\n",
    "        residuos = y_test - y_pred\n",
    "\n",
    "    #Metrics\n",
    "    rmse = (residuos ** 2).mean(axis = 0) ** 0.5\n",
    "    mpe = abs(y_pred / y_test).mean(axis = 0)\n",
    "    mae = abs(y_pred - y_test).mean(axis = 0)\n",
    "    df_pred = pd.DataFrame(y_pred).pct_change()\n",
    "    df_test = pd.DataFrame(y_test).pct_change()\n",
    "    df_sum_total_errors_pct = (df_pred - df_test).sum(axis = 0) * 100\n",
    "    df_mean_total_errors_pct = (df_pred - df_test).mean(axis = 0) * 100\n",
    "    df_max_total_errors_pct = (df_pred - df_test).max(axis = 0) * 100\n",
    "    df_min_total_errors_pct = (df_pred - df_test).min(axis = 0) * 100\n",
    "\n",
    "\n",
    "    #Ploting\n",
    "    fig = plt.figure(figsize= (15,30))\n",
    "    for i in range(1,Y_LEN):\n",
    "        if i == 1:\n",
    "            count = i\n",
    "        else:\n",
    "            count +=1\n",
    "        #Original scale plot\n",
    "        axs = fig.add_subplot(Y_LEN,2,count)\n",
    "        axs.set_title = f'{i} days in the future'\n",
    "        axs.plot(y_test[:,i-1], label= 'y_test')\n",
    "        axs.plot(y_pred[:,i-1], label= 'y_pred')\n",
    "        plt.legend()\n",
    "        #Pct_change plot\n",
    "        count +=1\n",
    "        axs = fig.add_subplot(Y_LEN,2,count)\n",
    "        axs.plot(df_pred.to_numpy()[:,i-1], label= 'y_test')\n",
    "        axs.plot(df_test.to_numpy()[:,i-1], label= 'y_pred')\n",
    "        plt.legend()\n",
    "\n",
    "\n",
    "    plt.show()\n",
    "\n",
    "\n",
    "    return mpe\n",
    "\n"
   ]
  },
  {
   "cell_type": "markdown",
   "id": "a275156a",
   "metadata": {},
   "source": [
    "# Future Prediction\n"
   ]
  },
  {
   "cell_type": "code",
   "execution_count": 30,
   "id": "a9c7c22a",
   "metadata": {},
   "outputs": [],
   "source": [
    "def prediction(ticker, start, end, model):\n",
    "   \n",
    "    print(ticker, start, end)\n",
    "    df = get_technical(symbol=ticker, start=start, end=end)\n",
    "    print(df.tail(5))\n",
    "    cleaned_data = clean_data(df.drop(columns=['Date']))[COLUMNS]\n",
    "    \n",
    "    #Creating Sequence to pass to the prediction\n",
    "    X = cleaned_data.to_numpy()[-(SEQUENCE_SIZE+1):, :]\n",
    "    \n",
    "    y = cleaned_data['Close'].to_numpy()[-(SEQUENCE_SIZE+1):]\n",
    "    print(X.shape, y.shape)\n",
    "    X, y = split_timeseries(X, y, sequence_size=SEQUENCE_SIZE)\n",
    "    print(X.shape, y.shape)\n",
    "    \n",
    "    results = model.predict(X)\n",
    "    \n",
    "    pred_values = np.exp(results[0])\n",
    "    pct_change_predictions = pd.Series(np.exp(results[0])).pct_change() * 100\n",
    "    cumsum_pctchange_predictions = pct_change_predictions.cumsum()\n",
    "    \n",
    "    \n",
    "    \n",
    "    return {\"prediction\": pred_values, \n",
    "            'actual_prices': y, \n",
    "            'pct_change_predictions': pct_change_predictions,\n",
    "            'cumsum_pctchange_predictions': cumsum_pctchange_predictions\n",
    "           }\n",
    "\n"
   ]
  },
  {
   "cell_type": "code",
   "execution_count": 31,
   "id": "34de3cf3",
   "metadata": {},
   "outputs": [
    {
     "name": "stdout",
     "output_type": "stream",
     "text": [
      "INFY.NS 2017-03-09 2022-03-08\n",
      "[*********************100%***********************]  1 of 1 completed\n",
      "           Date         Open         High          Low        Close    Volume  \\\n",
      "1018 2022-03-02  1710.000000  1714.400024  1691.000000  1702.800049   6771489   \n",
      "1019 2022-03-03  1720.199951  1733.900024  1705.550049  1720.849976   7344147   \n",
      "1020 2022-03-04  1695.250000  1736.000000  1681.000000  1723.300049   9074499   \n",
      "1021 2022-03-07  1697.000000  1751.000000  1696.000000  1739.849976   9742588   \n",
      "1022 2022-03-08  1718.449951  1800.000000  1718.449951  1778.199951  10983354   \n",
      "\n",
      "            ema12        ema21        ema26        ema34  ...        hma99  \\\n",
      "1018  1716.875788  1730.492937  1737.567362  1746.452948  ...  1757.450557   \n",
      "1019  1717.487202  1729.616305  1736.329037  1744.989921  ...  1751.664682   \n",
      "1020  1718.381486  1729.042099  1735.363927  1743.750500  ...  1746.128231   \n",
      "1021  1721.684330  1730.024634  1735.696227  1743.527613  ...  1741.040611   \n",
      "1022  1730.379041  1734.404208  1738.844651  1745.508889  ...  1736.866822   \n",
      "\n",
      "           hma200        rsi        atr     bb_upper     bb_lower  \\\n",
      "1018  1815.382325  44.221658  43.473022  1776.868643  1674.316355   \n",
      "1019  1812.962351  47.272482  42.589233  1765.096078  1679.463919   \n",
      "1020  1810.580417  47.690715  43.475716  1763.685689  1679.349309   \n",
      "1021  1808.302332  50.544353  44.298880  1763.510461  1679.399537   \n",
      "1022  1806.261752  56.470320  46.959677  1773.239929  1675.990064   \n",
      "\n",
      "      macd_signal  macd_line        adx         vwap  \n",
      "1018   -20.691574 -21.731008  20.381947  1702.733358  \n",
      "1019   -18.841836 -21.153174  19.948592  1720.100016  \n",
      "1020   -16.982441 -20.319027  20.069341  1713.433350  \n",
      "1021   -14.011897 -19.057601  19.718814  1728.949992  \n",
      "1022    -8.465610 -16.939203  18.525134  1765.549967  \n",
      "\n",
      "[5 rows x 28 columns]\n",
      "(51, 6) (51,)\n",
      "[array([[ 3.78034700e+06,  6.75158073e+01,  1.86350000e+03,\n",
      "         1.57939580e+03,  1.78024018e+03,  2.91273062e+01],\n",
      "       [ 2.64773300e+06,  6.78402236e+01,  1.86615002e+03,\n",
      "         1.58224908e+03,  1.78805016e+03,  3.20961392e+01],\n",
      "       [ 3.34093300e+06,  7.04597933e+01,  1.88800000e+03,\n",
      "         1.58529138e+03,  1.79713651e+03,  3.57993980e+01],\n",
      "       [ 3.23663500e+06,  6.97735175e+01,  1.88555005e+03,\n",
      "         1.58827902e+03,  1.80517411e+03,  3.80974035e+01],\n",
      "       [ 4.58473800e+06,  7.06895800e+01,  1.89284998e+03,\n",
      "         1.59130958e+03,  1.81314464e+03,  4.00460071e+01],\n",
      "       [ 4.61942000e+06,  6.91136546e+01,  1.88775000e+03,\n",
      "         1.59425924e+03,  1.81992695e+03,  4.07094904e+01],\n",
      "       [ 3.32961600e+06,  7.05948165e+01,  1.89844995e+03,\n",
      "         1.59728601e+03,  1.82706540e+03,  4.16189450e+01],\n",
      "       [ 3.92199900e+06,  7.06938407e+01,  1.89915002e+03,\n",
      "         1.60028963e+03,  1.83361855e+03,  4.19130371e+01],\n",
      "       [ 6.99571900e+06,  5.51292646e+01,  1.84465002e+03,\n",
      "         1.60272108e+03,  1.83462141e+03,  3.73182312e+01],\n",
      "       [ 6.44920500e+06,  4.93630622e+01,  1.81780005e+03,\n",
      "         1.60486117e+03,  1.83309220e+03,  3.11511548e+01],\n",
      "       [ 4.83438900e+06,  4.86487497e+01,  1.81430005e+03,\n",
      "         1.60694514e+03,  1.83138382e+03,  2.56851985e+01],\n",
      "       [ 7.85756000e+06,  5.58190132e+01,  1.85075000e+03,\n",
      "         1.60937106e+03,  1.83314438e+03,  2.40177337e+01],\n",
      "       [ 5.14228700e+06,  5.66856618e+01,  1.85559998e+03,\n",
      "         1.61182109e+03,  1.83518580e+03,  2.28245017e+01],\n",
      "       [ 5.36253500e+06,  6.04496960e+01,  1.87744995e+03,\n",
      "         1.61446417e+03,  1.83902799e+03,  2.33725431e+01],\n",
      "       [ 1.42776300e+07,  6.34766729e+01,  1.89680005e+03,\n",
      "         1.61727348e+03,  1.84428000e+03,  2.50791640e+01],\n",
      "       [ 7.68850600e+06,  6.79239275e+01,  1.92934998e+03,\n",
      "         1.62037872e+03,  1.85201363e+03,  2.87270330e+01],\n",
      "       [ 5.26246400e+06,  6.91840116e+01,  1.93950000e+03,\n",
      "         1.62355406e+03,  1.85996694e+03,  3.20673650e+01],\n",
      "       [ 3.69031500e+06,  6.41691014e+01,  1.92075000e+03,\n",
      "         1.62651123e+03,  1.86549267e+03,  3.28232677e+01],\n",
      "       [ 5.74777000e+06,  5.24441341e+01,  1.86705005e+03,\n",
      "         1.62890465e+03,  1.86563425e+03,  2.87576881e+01],\n",
      "       [ 5.53346300e+06,  4.52553351e+01,  1.82369995e+03,\n",
      "         1.63084291e+03,  1.86182204e+03,  2.17865545e+01],\n",
      "       [ 8.25275800e+06,  4.00702100e+01,  1.78569995e+03,\n",
      "         1.63238378e+03,  1.85490185e+03,  1.30452213e+01],\n",
      "       [ 7.11671200e+06,  3.45796228e+01,  1.73680005e+03,\n",
      "         1.63342275e+03,  1.84416532e+03,  2.14708796e+00],\n",
      "       [ 9.13765300e+06,  3.31156097e+01,  1.72215002e+03,\n",
      "         1.63430560e+03,  1.83307302e+03, -7.58446671e+00],\n",
      "       [ 1.12317340e+07,  2.91629362e+01,  1.67859998e+03,\n",
      "         1.63474634e+03,  1.81903002e+03, -1.85965494e+01],\n",
      "       [ 1.09985020e+07,  3.07170850e+01,  1.68619995e+03,\n",
      "         1.63525832e+03,  1.80695456e+03, -2.64060572e+01],\n",
      "       [ 8.78887200e+06,  4.00378527e+01,  1.73619995e+03,\n",
      "         1.63626271e+03,  1.80052232e+03, -2.82350897e+01],\n",
      "       [ 5.11993500e+06,  4.56805402e+01,  1.77205005e+03,\n",
      "         1.63761383e+03,  1.79793393e+03, -2.64864882e+01],\n",
      "       [ 4.25371700e+06,  4.78971979e+01,  1.78709998e+03,\n",
      "         1.63910126e+03,  1.79694903e+03, -2.36140969e+01],\n",
      "       [ 3.83292200e+06,  4.19499804e+01,  1.73855005e+03,\n",
      "         1.64009080e+03,  1.79164003e+03, -2.49674700e+01],\n",
      "       [ 4.70007700e+06,  4.23548269e+01,  1.74109998e+03,\n",
      "         1.64109586e+03,  1.78704548e+03, -2.55398626e+01],\n",
      "       [ 4.31020900e+06,  3.93312377e+01,  1.71500000e+03,\n",
      "         1.64183123e+03,  1.78049589e+03, -2.77793150e+01],\n",
      "       [ 6.05340100e+06,  3.97394953e+01,  1.71730005e+03,\n",
      "         1.64258216e+03,  1.77475081e+03, -2.90338187e+01],\n",
      "       [ 3.86724400e+06,  4.33117299e+01,  1.73730005e+03,\n",
      "         1.64352463e+03,  1.77134620e+03, -2.80903806e+01],\n",
      "       [ 4.33463000e+06,  4.86100881e+01,  1.76959998e+03,\n",
      "         1.64477911e+03,  1.77118745e+03, -2.44544691e+01],\n",
      "       [ 7.55137100e+06,  4.22564614e+01,  1.72134998e+03,\n",
      "         1.64554101e+03,  1.76665677e+03, -2.51761400e+01],\n",
      "       [ 7.45963700e+06,  3.79249477e+01,  1.68219995e+03,\n",
      "         1.64590577e+03,  1.75897888e+03, -2.85777229e+01],\n",
      "       [ 4.66991500e+06,  4.63965902e+01,  1.73825000e+03,\n",
      "         1.64682462e+03,  1.75709444e+03, -2.64458797e+01],\n",
      "       [ 5.35064200e+06,  4.58020989e+01,  1.73330005e+03,\n",
      "         1.64768507e+03,  1.75493131e+03, -2.48691225e+01],\n",
      "       [ 3.93795000e+06,  4.47419257e+01,  1.72480005e+03,\n",
      "         1.64845239e+03,  1.75219210e+03, -2.40284254e+01],\n",
      "       [ 5.60221500e+06,  4.25162946e+01,  1.70694995e+03,\n",
      "         1.64903445e+03,  1.74807918e+03, -2.45198707e+01],\n",
      "       [ 5.12089000e+06,  4.63409244e+01,  1.73069995e+03,\n",
      "         1.64984704e+03,  1.74649925e+03, -2.27308906e+01],\n",
      "       [ 8.87851500e+06,  4.69253758e+01,  1.73434998e+03,\n",
      "         1.65068787e+03,  1.74539477e+03, -2.07790565e+01],\n",
      "       [ 5.47881100e+06,  4.83366001e+01,  1.74284998e+03,\n",
      "         1.65160491e+03,  1.74516343e+03, -1.83349807e+01],\n",
      "       [ 1.35923790e+07,  3.96864918e+01,  1.67815002e+03,\n",
      "         1.65186904e+03,  1.73907130e+03, -2.13724105e+01],\n",
      "       [ 9.73728100e+06,  4.25037726e+01,  1.69459998e+03,\n",
      "         1.65229422e+03,  1.73502845e+03, -2.21963561e+01],\n",
      "       [ 1.50765420e+07,  4.59732477e+01,  1.71559998e+03,\n",
      "         1.65292413e+03,  1.73326223e+03, -2.09137340e+01],\n",
      "       [ 6.77148900e+06,  4.42216583e+01,  1.70280005e+03,\n",
      "         1.65342041e+03,  1.73049294e+03, -2.06915742e+01],\n",
      "       [ 7.34414700e+06,  4.72724819e+01,  1.72084998e+03,\n",
      "         1.65409135e+03,  1.72961630e+03, -1.88418358e+01],\n",
      "       [ 9.07449900e+06,  4.76907152e+01,  1.72330005e+03,\n",
      "         1.65477999e+03,  1.72904210e+03, -1.69824414e+01],\n",
      "       [ 9.74258800e+06,  5.05443530e+01,  1.73984998e+03,\n",
      "         1.65562646e+03,  1.73002463e+03, -1.40118967e+01]])]\n",
      "[1778.199951171875]\n",
      "\n",
      "(1, 50, 6) (1,)\n"
     ]
    }
   ],
   "source": [
    "import datetime\n",
    "\n",
    "end_date = datetime.datetime.now().strftime(\"%Y-%m-%d\")\n",
    "start_date = (datetime.datetime.now() - datetime.timedelta(days=5 * 365)).strftime(\"%Y-%m-%d\")\n",
    "\n",
    "\n",
    "pred = prediction(ticker=ticker, start=start_date, end=end_date, model=model)\n",
    "\n",
    "\n"
   ]
  },
  {
   "cell_type": "code",
   "execution_count": 32,
   "id": "44581abb",
   "metadata": {},
   "outputs": [
    {
     "data": {
      "text/plain": [
       "{'prediction': array([1666.5277, 1659.7291, 1664.0431, 1680.2603, 1687.2653, 1683.0724,\n",
       "        1699.3655, 1701.1605, 1686.978 , 1703.464 , 1710.2603, 1719.3658,\n",
       "        1717.976 , 1706.4878, 1714.5486], dtype=float32),\n",
       " 'actual_prices': array([1778.19995117]),\n",
       " 'pct_change_predictions': 0          NaN\n",
       " 1    -0.407946\n",
       " 2     0.259924\n",
       " 3     0.974560\n",
       " 4     0.416899\n",
       " 5    -0.248504\n",
       " 6     0.968051\n",
       " 7     0.105631\n",
       " 8    -0.833696\n",
       " 9     0.977254\n",
       " 10    0.398970\n",
       " 11    0.532413\n",
       " 12   -0.080836\n",
       " 13   -0.668705\n",
       " 14    0.472367\n",
       " dtype: float32,\n",
       " 'cumsum_pctchange_predictions': 0          NaN\n",
       " 1    -0.407946\n",
       " 2    -0.148022\n",
       " 3     0.826538\n",
       " 4     1.243436\n",
       " 5     0.994933\n",
       " 6     1.962984\n",
       " 7     2.068615\n",
       " 8     1.234919\n",
       " 9     2.212173\n",
       " 10    2.611142\n",
       " 11    3.143555\n",
       " 12    3.062719\n",
       " 13    2.394015\n",
       " 14    2.866381\n",
       " dtype: float32}"
      ]
     },
     "execution_count": 32,
     "metadata": {},
     "output_type": "execute_result"
    }
   ],
   "source": [
    "pred"
   ]
  }
 ],
 "metadata": {
  "kernelspec": {
   "display_name": "Python 3 (ipykernel)",
   "language": "python",
   "name": "python3"
  },
  "language_info": {
   "codemirror_mode": {
    "name": "ipython",
    "version": 3
   },
   "file_extension": ".py",
   "mimetype": "text/x-python",
   "name": "python",
   "nbconvert_exporter": "python",
   "pygments_lexer": "ipython3",
   "version": "3.8.12"
  },
  "toc": {
   "base_numbering": 1,
   "nav_menu": {},
   "number_sections": true,
   "sideBar": true,
   "skip_h1_title": false,
   "title_cell": "Table of Contents",
   "title_sidebar": "Contents",
   "toc_cell": false,
   "toc_position": {},
   "toc_section_display": true,
   "toc_window_display": true
  }
 },
 "nbformat": 4,
 "nbformat_minor": 5
}
